{
 "cells": [
  {
   "cell_type": "markdown",
   "id": "1320da23",
   "metadata": {},
   "source": [
    "Here we discuss the detials of optimization of the neural network."
   ]
  },
  {
   "cell_type": "markdown",
   "id": "3b732094",
   "metadata": {},
   "source": []
  }
 ],
 "metadata": {
  "language_info": {
   "name": "python"
  }
 },
 "nbformat": 4,
 "nbformat_minor": 5
}
